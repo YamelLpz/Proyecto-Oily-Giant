{
 "cells": [
  {
   "cell_type": "markdown",
   "id": "42574bda",
   "metadata": {},
   "source": [
    "# Proyecto Oily Giant 🏭🔥\n",
    "\n",
    "## 1. Preparación de los Datos"
   ]
  },
  {
   "cell_type": "code",
   "execution_count": 8,
   "id": "cf0c21af",
   "metadata": {},
   "outputs": [
    {
     "name": "stdout",
     "output_type": "stream",
     "text": [
      "Datos cargados correctamente, con metodo 1.\n",
      "<class 'pandas.core.frame.DataFrame'>\n",
      "RangeIndex: 100000 entries, 0 to 99999\n",
      "Data columns (total 5 columns):\n",
      " #   Column   Non-Null Count   Dtype  \n",
      "---  ------   --------------   -----  \n",
      " 0   id       100000 non-null  object \n",
      " 1   f0       100000 non-null  float64\n",
      " 2   f1       100000 non-null  float64\n",
      " 3   f2       100000 non-null  float64\n",
      " 4   product  100000 non-null  float64\n",
      "dtypes: float64(4), object(1)\n",
      "memory usage: 3.8+ MB\n",
      "None                   f0             f1             f2        product\n",
      "count  100000.000000  100000.000000  100000.000000  100000.000000\n",
      "mean        0.500419       0.250143       2.502647      92.500000\n",
      "std         0.871832       0.504433       3.248248      44.288691\n",
      "min        -1.408605      -0.848218     -12.088328       0.000000\n",
      "25%        -0.072580      -0.200881       0.287748      56.497507\n",
      "50%         0.502360       0.250252       2.515969      91.849972\n",
      "75%         1.073581       0.700646       4.715088     128.564089\n",
      "max         2.362331       1.343769      16.003790     185.364347\n",
      "<class 'pandas.core.frame.DataFrame'>\n",
      "RangeIndex: 100000 entries, 0 to 99999\n",
      "Data columns (total 5 columns):\n",
      " #   Column   Non-Null Count   Dtype  \n",
      "---  ------   --------------   -----  \n",
      " 0   id       100000 non-null  object \n",
      " 1   f0       100000 non-null  float64\n",
      " 2   f1       100000 non-null  float64\n",
      " 3   f2       100000 non-null  float64\n",
      " 4   product  100000 non-null  float64\n",
      "dtypes: float64(4), object(1)\n",
      "memory usage: 3.8+ MB\n",
      "None                   f0             f1             f2        product\n",
      "count  100000.000000  100000.000000  100000.000000  100000.000000\n",
      "mean        1.141296      -4.796579       2.494541      68.825000\n",
      "std         8.965932       5.119872       1.703572      45.944423\n",
      "min       -31.609576     -26.358598      -0.018144       0.000000\n",
      "25%        -6.298551      -8.267985       1.000021      26.953261\n",
      "50%         1.153055      -4.813172       2.011479      57.085625\n",
      "75%         8.621015      -1.332816       3.999904     107.813044\n",
      "max        29.421755      18.734063       5.019721     137.945408\n",
      "<class 'pandas.core.frame.DataFrame'>\n",
      "RangeIndex: 100000 entries, 0 to 99999\n",
      "Data columns (total 5 columns):\n",
      " #   Column   Non-Null Count   Dtype  \n",
      "---  ------   --------------   -----  \n",
      " 0   id       100000 non-null  object \n",
      " 1   f0       100000 non-null  float64\n",
      " 2   f1       100000 non-null  float64\n",
      " 3   f2       100000 non-null  float64\n",
      " 4   product  100000 non-null  float64\n",
      "dtypes: float64(4), object(1)\n",
      "memory usage: 3.8+ MB\n",
      "None                   f0             f1             f2        product\n",
      "count  100000.000000  100000.000000  100000.000000  100000.000000\n",
      "mean        0.002023      -0.002081       2.495128      95.000000\n",
      "std         1.732045       1.730417       3.473445      44.749921\n",
      "min        -8.760004      -7.084020     -11.970335       0.000000\n",
      "25%        -1.162288      -1.174820       0.130359      59.450441\n",
      "50%         0.009424      -0.009482       2.484236      94.925613\n",
      "75%         1.158535       1.163678       4.858794     130.595027\n",
      "max         7.238262       7.844801      16.739402     190.029838\n"
     ]
    }
   ],
   "source": [
    "import pandas as pd\n",
    "from sklearn.model_selection import train_test_split\n",
    "from sklearn.linear_model import LinearRegression\n",
    "from sklearn.metrics import mean_squared_error\n",
    "import numpy as np\n",
    "import matplotlib.pyplot as plt\n",
    "\n",
    "try:\n",
    "    df0 = pd.read_csv('geo_data_0.csv')\n",
    "    df1 = pd.read_csv('geo_data_1.csv')\n",
    "    df2 = pd.read_csv('geo_data_2.csv')\n",
    "    print(\"Datos cargados correctamente, con metodo 1.\")\n",
    "    \n",
    "except FileNotFoundError:\n",
    "    df0 = pd.read_csv('/datasets/geo_data_0.csv')\n",
    "    df1 = pd.read_csv('/datasets/geo_data_1.csv')\n",
    "    df2 = pd.read_csv('/datasets/geo_data_2.csv')\n",
    "    print(\"Datos cargados con método 2 (ruta alternativa)\")\n",
    "    \n",
    "# Verificar estructura de datos\n",
    "print(df0.info(), df0.describe())\n",
    "print(df1.info(), df1.describe())\n",
    "print(df2.info(), df2.describe())"
   ]
  },
  {
   "cell_type": "markdown",
   "id": "d58aec49",
   "metadata": {},
   "source": [
    "Conclusiones iniciales:\n",
    "\n",
    "* Región 2 tiene el promedio de reservas más alto (95.0) y la mediana más alta, lo cual es muy prometedor.\n",
    "\n",
    "* Región 0 tiene una media apenas inferior, pero también es una buena candidata.\n",
    "\n",
    "* Región 1 tiene significativamente menor promedio y mediana, lo que la hace menos atractiva desde el punto de vista del volumen esperado de reservas."
   ]
  },
  {
   "cell_type": "code",
   "execution_count": 9,
   "id": "aa76b8c0",
   "metadata": {},
   "outputs": [],
   "source": [
    "from sklearn.model_selection import train_test_split\n",
    "\n",
    "# Función para dividir datos\n",
    "def dividir_datos(df):\n",
    "    X = df[['f0', 'f1', 'f2']]\n",
    "    y = df['product']\n",
    "    X_train, X_valid, y_train, y_valid = train_test_split(X, y, test_size=0.25, random_state=42)\n",
    "    return X_train, X_valid, y_train, y_valid\n",
    "\n",
    "X_train0, X_valid0, y_train0, y_valid0 = dividir_datos(df0)\n",
    "X_train1, X_valid1, y_train1, y_valid1 = dividir_datos(df1)\n",
    "X_train2, X_valid2, y_train2, y_valid2 = dividir_datos(df2)"
   ]
  },
  {
   "cell_type": "markdown",
   "id": "b497d84e",
   "metadata": {},
   "source": [
    "## 🧪 2. Entrenamiento y evaluación del modelo\n",
    "\n",
    "Entrenamos un modelo de regresión lineal y evaluamos su rendimiento."
   ]
  },
  {
   "cell_type": "code",
   "execution_count": 10,
   "id": "f82538fc",
   "metadata": {},
   "outputs": [
    {
     "name": "stdout",
     "output_type": "stream",
     "text": [
      "RMSE Región 0: 37.75660035026169\n",
      "RMSE Región 1: 0.8902801001028854\n",
      "RMSE Región 2: 40.145872311342174\n"
     ]
    }
   ],
   "source": [
    "from sklearn.linear_model import LinearRegression\n",
    "from sklearn.metrics import mean_squared_error\n",
    "\n",
    "# Función para entrenar el modelo\n",
    "def entrenar_modelo(X_train, y_train, X_valid, y_valid):\n",
    "    modelo = LinearRegression()\n",
    "    modelo.fit(X_train, y_train)\n",
    "    predicciones = modelo.predict(X_valid)\n",
    "    mse = mean_squared_error(y_valid, predicciones)\n",
    "    rmse = mse ** 0.5\n",
    "    return modelo, predicciones, rmse\n",
    "\n",
    "modelo0, predicciones0, rmse0 = entrenar_modelo(X_train0, y_train0, X_valid0, y_valid0)\n",
    "modelo1, predicciones1, rmse1 = entrenar_modelo(X_train1, y_train1, X_valid1, y_valid1)\n",
    "modelo2, predicciones2, rmse2 = entrenar_modelo(X_train2, y_train2, X_valid2, y_valid2)\n",
    "\n",
    "print(f\"RMSE Región 0: {rmse0}\")\n",
    "print(f\"RMSE Región 1: {rmse1}\")\n",
    "print(f\"RMSE Región 2: {rmse2}\")"
   ]
  },
  {
   "cell_type": "markdown",
   "id": "b577e2a3",
   "metadata": {},
   "source": [
    "* Región 1 tiene un RMSE extraordinariamente bajo (0.89), lo que sugiere que el modelo predice casi perfectamente el volumen de reservas.\n",
    "\n",
    "* Regiones 0 y 2 tienen RMSEs muy altos (≈38–40), lo que indica baja precisión predictiva en esas regiones."
   ]
  },
  {
   "cell_type": "code",
   "execution_count": 11,
   "id": "e3e0953f",
   "metadata": {},
   "outputs": [
    {
     "ename": "SyntaxError",
     "evalue": "invalid syntax (3668427494.py, line 3)",
     "output_type": "error",
     "traceback": [
      "\u001b[1;36m  Input \u001b[1;32mIn [11]\u001b[1;36m\u001b[0m\n\u001b[1;33m    Usando los 200 pozos\u001b[0m\n\u001b[1;37m           ^\u001b[0m\n\u001b[1;31mSyntaxError\u001b[0m\u001b[1;31m:\u001b[0m invalid syntax\n"
     ]
    }
   ],
   "source": [
    "## 3. Cálculo de ganancias\n",
    "\n",
    "Usando los 200 pozos"
   ]
  },
  {
   "cell_type": "code",
   "execution_count": null,
   "id": "548f36ec",
   "metadata": {},
   "outputs": [],
   "source": [
    "def calcular_ganancia(predicciones, y_valid):\n",
    "    pozos_seleccionados = predicciones.argsort()[-200:]  # Selección de los 200 mejores\n",
    "    ganancia_total = y_valid.iloc[pozos_seleccionados].sum() * 4500\n",
    "    return ganancia_total\n",
    "\n",
    "ganancia0 = calcular_ganancia(predicciones0, y_valid0)\n",
    "ganancia1 = calcular_ganancia(predicciones1, y_valid1)\n",
    "ganancia2 = calcular_ganancia(predicciones2, y_valid2)\n",
    "\n",
    "print(f\"Ganancia Región 0: ${ganancia0}\")\n",
    "print(f\"Ganancia Región 1: ${ganancia1}\")\n",
    "print(f\"Ganancia Región 2: ${ganancia2}\")"
   ]
  },
  {
   "cell_type": "markdown",
   "id": "dfc5487a",
   "metadata": {},
   "source": [
    "* Región 0 proporciona la mayor ganancia estimada, superando por más de 8 millones de dólares a las otras dos regiones.\n",
    "\n",
    "* A pesar de que el modelo en Región 1 tiene el RMSE más bajo (es decir, es más preciso), el volumen promedio de reservas en esa región es menor, lo que reduce el beneficio total.\n",
    "\n",
    "* Región 2 tiene el mayor volumen promedio, pero el modelo predice con menos precisión, lo que lleva a una ganancia inferior comparada con Región 0."
   ]
  },
  {
   "cell_type": "markdown",
   "id": "c1a28e0b",
   "metadata": {},
   "source": [
    "## 4. Análisis de riesgos con bootstrapping\n",
    "\n",
    "Simulación de 1000 muestras para evaluar el riesgo:"
   ]
  },
  {
   "cell_type": "code",
   "execution_count": null,
   "id": "03f4b53f",
   "metadata": {},
   "outputs": [],
   "source": [
    "def bootstrap(predicciones, y_valid, n=1000):\n",
    "    np.random.seed(42)\n",
    "    ganancias = []\n",
    "    for _ in range(n):\n",
    "        muestra = np.random.choice(predicciones, 200, replace=True)\n",
    "        ganancia_muestra = y_valid.iloc[muestra.argsort()[-200:]].sum() * 4500\n",
    "        ganancias.append(ganancia_muestra)\n",
    "    \n",
    "    ganancia_media = np.mean(ganancias)\n",
    "    intervalo_confianza = (np.percentile(ganancias, 2.5), np.percentile(ganancias, 97.5))\n",
    "    riesgo_perdida = (np.sum(np.array(ganancias) < 100_000_000) / n) * 100\n",
    "    return ganancia_media, intervalo_confianza, riesgo_perdida\n",
    "\n",
    "ganancia_media0, conf_0, riesgo0 = bootstrap(predicciones0, y_valid0)\n",
    "ganancia_media1, conf_1, riesgo1 = bootstrap(predicciones1, y_valid1)\n",
    "ganancia_media2, conf_2, riesgo2 = bootstrap(predicciones2, y_valid2)\n",
    "\n",
    "print(f\"Región 0 - Ganancia media: ${ganancia_media0}, Intervalo de confianza: {conf_0}, Riesgo: {riesgo0}%\")\n",
    "print(f\"Región 1 - Ganancia media: ${ganancia_media1}, Intervalo de confianza: {conf_1}, Riesgo: {riesgo1}%\")\n",
    "print(f\"Región 2 - Ganancia media: ${ganancia_media2}, Intervalo de confianza: {conf_2}, Riesgo: {riesgo2}%\")"
   ]
  },
  {
   "cell_type": "markdown",
   "id": "06d7c725",
   "metadata": {},
   "source": [
    "## Conclusion Final\n",
    "\n",
    "La mejor región para la extracción será aquella con: ✅ Mayor ganancia media ✅ Menor riesgo de pérdidas (<2.5%)"
   ]
  },
  {
   "cell_type": "markdown",
   "id": "48129022",
   "metadata": {},
   "source": []
  },
  {
   "cell_type": "markdown",
   "id": "9295187b",
   "metadata": {},
   "source": [
    "Aunque la Región 2 parece tener la mayor ganancia media, el hecho de que el riesgo sea del 100% en todas las regiones implica que ninguna alcanza el punto de equilibrio ($100 millones) en ninguna simulación.\n",
    "\n",
    "Pero estos resultados no son confiables si el bootstrapping no fue aplicado correctamente. Debes revisar y corregir el muestreo y la lógica de selección de pozos dentro del ciclo."
   ]
  }
 ],
 "metadata": {
  "kernelspec": {
   "display_name": "Python 3",
   "language": "python",
   "name": "python3"
  },
  "language_info": {
   "codemirror_mode": {
    "name": "ipython",
    "version": 3
   },
   "file_extension": ".py",
   "mimetype": "text/x-python",
   "name": "python",
   "nbconvert_exporter": "python",
   "pygments_lexer": "ipython3",
   "version": "3.10.6"
  }
 },
 "nbformat": 4,
 "nbformat_minor": 5
}
